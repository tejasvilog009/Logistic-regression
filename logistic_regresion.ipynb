{
  "nbformat": 4,
  "nbformat_minor": 0,
  "metadata": {
    "colab": {
      "provenance": []
    },
    "kernelspec": {
      "name": "python3",
      "display_name": "Python 3"
    },
    "language_info": {
      "name": "python"
    }
  },
  "cells": [
    {
      "cell_type": "markdown",
      "source": [
        "#LOGISTIC REGRESSION"
      ],
      "metadata": {
        "id": "oE9onmaqGY8D"
      }
    },
    {
      "cell_type": "markdown",
      "source": [
        "##THEORITICAL QUESTION SOLUTIONS:"
      ],
      "metadata": {
        "id": "Rn4jFJqIGdkd"
      }
    },
    {
      "cell_type": "markdown",
      "source": [
        "Q1- What is Logistic Regression, and how does it differ from Linear Regression?"
      ],
      "metadata": {
        "id": "P5rIg8lgGkRM"
      }
    },
    {
      "cell_type": "markdown",
      "source": [
        "A1- Linear vs Logistic Regression: Detailed AnalysisLogistic regression and linear regression are both types of regression analysis, but they differ in their output and the types of problems they address. Linear regression is used to predict continuous outcomes (like sales figures or temperatures), while logistic regression is used for binary classification problems (like classifying emails as spam or not spam)."
      ],
      "metadata": {
        "id": "E_zQLlsbGui0"
      }
    },
    {
      "cell_type": "markdown",
      "source": [
        "Q2- What is the mathematical equation of Logistic Regression?"
      ],
      "metadata": {
        "id": "oLLXk4bTHKxP"
      }
    },
    {
      "cell_type": "markdown",
      "source": [
        "A2- The mathematical equation for logistic regression, used for binary classification, is based on the logistic function (also known as the sigmoid function). It expresses the probability of a data point belonging to a specific class (usually class 1) given its input features. The equation is: P(Y=1|X) = 1 / (1 + exp(-(β₀ + β₁X₁ + β₂X₂ + ... + βₚXₚ)))"
      ],
      "metadata": {
        "id": "Stlw4LWcHSFm"
      }
    },
    {
      "cell_type": "markdown",
      "source": [
        "Q3-Why do we use the Sigmoid function in Logistic Regression?"
      ],
      "metadata": {
        "id": "YlSppu49HeQK"
      }
    },
    {
      "cell_type": "markdown",
      "source": [
        "A3- The sigmoid function is crucial in logistic regression because it transforms the linear combination of input features into a probability value between 0 and 1"
      ],
      "metadata": {
        "id": "CmRKAvQqHj6s"
      }
    },
    {
      "cell_type": "markdown",
      "source": [
        "Q4-What is the cost function of Logistic Regression?"
      ],
      "metadata": {
        "id": "8aKX2EuxHt6q"
      }
    },
    {
      "cell_type": "markdown",
      "source": [
        "A4- Cost Function in Logistic Regression: Explanation & InsightsIn logistic regression, the cost function, often called the log loss or cross-entropy loss, measures how well the model's predictions match the actual outcomes. It's calculated by averaging the loss over all training examples"
      ],
      "metadata": {
        "id": "yJ_3tGkAHyxK"
      }
    },
    {
      "cell_type": "markdown",
      "source": [
        "Q5- What is Regularization in Logistic Regression? Why is it needed?"
      ],
      "metadata": {
        "id": "LdSEFu_PH9cT"
      }
    },
    {
      "cell_type": "markdown",
      "source": [
        "A5- Regularization in Machine Learning - GeeksforGeeksRegularization in logistic regression is a technique used to prevent overfitting, which occurs when a model learns the training data too well, including noise and outliers, and performs poorly on new, unseen data. It does this by adding a penalty to the model's loss function, which discourages overly complex models with large coefficients. This leads to better generalization performance on unseen data."
      ],
      "metadata": {
        "id": "QyJtMkmgICX-"
      }
    },
    {
      "cell_type": "markdown",
      "source": [
        "Q6- Explain the difference between Lasso, Ridge, and Elastic Net regression?"
      ],
      "metadata": {
        "id": "KUqM7QQkLZHQ"
      }
    },
    {
      "cell_type": "markdown",
      "source": [
        "A6- Lasso, Ridge, and Elastic Net are regularization techniques used in linear regression to prevent overfitting and improve model generalization. Lasso performs feature selection by driving some coefficients to zero, while Ridge shrinks coefficients towards zero but doesn't eliminate them. Elastic Net combines both L1 (Lasso) and L2 (Ridge) penalties, offering a balance between feature selection and coefficient shrinkage."
      ],
      "metadata": {
        "id": "ysnMN3jwLoPG"
      }
    },
    {
      "cell_type": "markdown",
      "source": [
        "Q7- When should we use Elastic Net instead of Lasso or Ridge?"
      ],
      "metadata": {
        "id": "KX8BhksZLyaf"
      }
    },
    {
      "cell_type": "markdown",
      "source": [
        "A7- Elastic Net regression is a good choice when dealing with datasets that have multicollinearity (correlated features) and when feature selection is important. It combines the strengths of both Lasso and Ridge, offering a balance between feature selection and handling multicollinearity. Essentially, Elastic Net can help prevent Lasso from arbitrarily dropping one of several correlated features while still allowing for feature selection through shrinkage."
      ],
      "metadata": {
        "id": "S3uzStO4L47Z"
      }
    },
    {
      "cell_type": "markdown",
      "source": [
        "Q8- What is the impact of the regularization parameter (λ) in Logistic Regression?"
      ],
      "metadata": {
        "id": "6bnAIMo0MSCn"
      }
    },
    {
      "cell_type": "markdown",
      "source": [
        "A8- In Logistic Regression, the regularization parameter, often denoted as λ (lambda), controls the strength of regularization applied to the model. A higher λ value leads to stronger regularization, shrinking the model's coefficients towards zero and thus reducing overfitting. Conversely, a lower λ value results in weaker regularization, allowing the model to fit the training data more closely, potentially leading to overfitting."
      ],
      "metadata": {
        "id": "C9iupUZDMYB3"
      }
    },
    {
      "cell_type": "markdown",
      "source": [
        "Q9- What are the key assumptions of Logistic Regression?"
      ],
      "metadata": {
        "id": "nLO66mGjMnl0"
      }
    },
    {
      "cell_type": "markdown",
      "source": [
        "A9- Logistic regression relies on a few key assumptions for accurate and reliable results. These include the binary nature of the dependent variable, independence of observations, absence of multicollinearity, and linearity of the logit for continuous variables.\n",
        "Key Assumptions of Logistic Regression:\n",
        "1. Binary Dependent Variable:\n",
        "Logistic regression is designed for binary outcomes, meaning the dependent variable has only two possible categories (e.g., success/failure, yes/no). For more than two categories, multinomial logistic regression or other classification techniques are needed.\n",
        "2. Independence of Observations:\n",
        "Each data point should be independent of the others. This means there should be no relationship or correlation between the observations. For example, in a study, each individual should be unique and not related to another in the study.\n",
        "3. Absence of Multicollinearity:\n",
        "Independent variables should not be highly correlated with each other. Multicollinearity can distort the model's results and make it difficult to interpret the impact of individual predictors.\n",
        "4. Linearity of the Logit:\n",
        "For continuous independent variables, the relationship with the log-odds (logit) of the dependent variable should be linear. This means that a change in the independent variable leads to a consistent change in the log-odds.\n",
        "5. Sufficiently Large Sample Size:\n",
        "A large enough sample size is needed to ensure reliable and stable model results. A general rule of thumb is to have at least 50 observations per predictor variable."
      ],
      "metadata": {
        "id": "HT6XbcXzM1aH"
      }
    },
    {
      "cell_type": "markdown",
      "source": [
        "Q10- What are some alternatives to Logistic Regression for classification tasks?"
      ],
      "metadata": {
        "id": "lzLmY5GJM_Ah"
      }
    },
    {
      "cell_type": "markdown",
      "source": [
        "A10- Several alternative models can be used for classification tasks instead of logistic regression, each with its own strengths and weaknesses. These include decision trees, random forests, support vector machines, and neural networks. For multi-class problems, multinomial logistic regression, support vector machines, and neural networks are viable options"
      ],
      "metadata": {
        "id": "vh-XobilNNyU"
      }
    },
    {
      "cell_type": "markdown",
      "source": [
        "Q11-  What are Classification Evaluation Metrics?"
      ],
      "metadata": {
        "id": "_uDJsbmtN0uK"
      }
    },
    {
      "cell_type": "markdown",
      "source": [
        "A11- Common classification evaluation metrics include accuracy, precision, recall, F1-score, AUC-ROC, and the confusion matrix. These metrics help assess how well a classification model distinguishes between different classes.\n",
        "Here's a breakdown of some key metrics:\n",
        "Accuracy:\n",
        "The proportion of correctly classified instances out of the total instances. It's a good general measure, but can be misleading with imbalanced datasets (where one class has significantly more instances than others).\n",
        "Precision:\n",
        "Out of all instances predicted as positive, what proportion is actually positive? High precision indicates fewer false positives.\n",
        "Recall (also known as Sensitivity):\n",
        "Out of all actual positive instances, what proportion did the model correctly identify? High recall indicates fewer false negatives.\n",
        "F1-Score:\n",
        "The harmonic mean of precision and recall. It provides a balanced measure that considers both false positives and false negatives, especially useful when there's an imbalance between classes.\n",
        "AUC-ROC:\n",
        "The area under the Receiver Operating Characteristic curve. It measures the model's ability to distinguish between classes at various threshold settings, particularly useful for binary classification problems.\n",
        "Confusion Matrix:\n",
        "A table that summarizes the performance of a classification model by showing the counts of true positives, true negatives, false positives, and false negatives."
      ],
      "metadata": {
        "id": "CYNkeb3LN6j8"
      }
    },
    {
      "cell_type": "markdown",
      "source": [
        "Q12- How does class imbalance affect Logistic Regression?"
      ],
      "metadata": {
        "id": "aaYgcEgwOVfT"
      }
    },
    {
      "cell_type": "markdown",
      "source": [
        "A12- Class imbalance, where one class has significantly more instances than others, can negatively impact logistic regression's performance, leading to biased predictions that favor the majority class. This bias arises because the model, when trained on imbalanced data, tends to prioritize accuracy on the majority class, potentially misclassifying or ignoring instances from the minority class."
      ],
      "metadata": {
        "id": "NqrBqAauOe45"
      }
    },
    {
      "cell_type": "markdown",
      "source": [
        "Q13-  What is Hyperparameter Tuning in Logistic Regression?"
      ],
      "metadata": {
        "id": "-siGCnkuOlzV"
      }
    },
    {
      "cell_type": "markdown",
      "source": [
        "A13- Hyperparameter tuning in logistic regression is the process of finding the optimal values for the hyperparameters of the model before training. These hyperparameters control the learning process and can significantly impact the model's performance. Finding the right combination of hyperparameters can lead to a more accurate and efficient model."
      ],
      "metadata": {
        "id": "H9hyanIdOrma"
      }
    },
    {
      "cell_type": "markdown",
      "source": [
        "Q14- What are different solvers in Logistic Regression? Which one should be used?"
      ],
      "metadata": {
        "id": "C3toE7BqO_Sq"
      }
    },
    {
      "cell_type": "markdown",
      "source": [
        "A14- In Logistic Regression, different solvers refer to the optimization algorithms used to find the best model parameters. The choice of solver depends on factors like the size and nature of your dataset, the number of features, and whether you're dealing with binary or multiclass classification problems. Here are some common solvers and when they might be appropriate:"
      ],
      "metadata": {
        "id": "o9W-0Pe4PLXA"
      }
    },
    {
      "cell_type": "markdown",
      "source": [
        "Q15- How is Logistic Regression extended for multiclass classification?"
      ],
      "metadata": {
        "id": "mln07WQoPgJT"
      }
    },
    {
      "cell_type": "markdown",
      "source": [
        "A15- Logistic Regression, primarily designed for binary classification, can be extended to handle multiclass problems using several strategies. These include One-vs-Rest (OvR), One-vs-One (OvO), and Multinomial Logistic Regression. The most common approach is the One-vs-Rest method, which trains a separate binary logistic regression model for each class, distinguishing it from all other classes combined"
      ],
      "metadata": {
        "id": "3hbgHHOJPtB3"
      }
    },
    {
      "cell_type": "markdown",
      "source": [
        "Q16- What are the advantages and disadvantages of Logistic Regression?"
      ],
      "metadata": {
        "id": "fWFrKd7uP2km"
      }
    },
    {
      "cell_type": "markdown",
      "source": [
        "A16- Logistic regression works very similar to linear regression, but with a binomial response variable. The greatest advantage when compared to Mantel-Haenszel OR is the fact that you can use continuous explanatory variables and it is easier to handle more than two explanatory variables simultaneously and disadvantage are\n",
        "They can't be used to model continuous results or nonlinear relationships, can fail if the relationship to the model is too complex, and will overfit if they analyze too much data\n"
      ],
      "metadata": {
        "id": "8jdcfS0AP78Q"
      }
    },
    {
      "cell_type": "markdown",
      "source": [
        "Q17- What are some use cases of Logistic Regression?"
      ],
      "metadata": {
        "id": "igd2pncqQW8I"
      }
    },
    {
      "cell_type": "markdown",
      "source": [
        "A17- Logistic regression is used when the outcome variable is categorical, specifically when it has two or more discrete outcomes. It's a classification algorithm that estimates the probability of an instance belonging to a particular category"
      ],
      "metadata": {
        "id": "1kLMwASQQcQe"
      }
    },
    {
      "cell_type": "markdown",
      "source": [
        "Q18-What is the difference between Softmax Regression and Logistic Regression?"
      ],
      "metadata": {
        "id": "kAfXbPpqQqA3"
      }
    },
    {
      "cell_type": "markdown",
      "source": [
        "A18-Softmax regression is a generalization of logistic regression used for multi-class classification problems, where the output can belong to more than two classes. Logistic regression, on the other hand, is specifically designed for binary classification problems with only two possible output classes"
      ],
      "metadata": {
        "id": "K29q5BtYREuR"
      }
    },
    {
      "cell_type": "markdown",
      "source": [
        "Q19-How do we choose between One-vs-Rest (OvR) and Softmax for multiclass classification?"
      ],
      "metadata": {
        "id": "8M4zF2iORPsF"
      }
    },
    {
      "cell_type": "markdown",
      "source": [
        "A19- The choice between One-vs-Rest (OvR) and Softmax for multiclass classification depends on factors like the nature of the classes and the desired model characteristics. Softmax excels with mutually exclusive classes and when modeling relationships between classes, while OvR is preferred for independent classes and parallelization, potentially sacrificing nuanced relationships"
      ],
      "metadata": {
        "id": "4kvsVzcXRUdh"
      }
    },
    {
      "cell_type": "markdown",
      "source": [
        "Q20-How do we interpret coefficients in Logistic Regression?"
      ],
      "metadata": {
        "id": "RBRHztZpRbH_"
      }
    },
    {
      "cell_type": "markdown",
      "source": [
        "A20-In logistic regression, coefficients represent the change in the log-odds of the outcome for a one-unit change in the predictor variable, holding other variables constant. Exponentiating the coefficient (i.e., calculating ecoefficient) gives the odds ratio, which represents the multiplicative change in the odds of the outcome. A positive coefficient (and odds ratio > 1) indicates that increasing the predictor variable increases the odds of the outcome, while a negative coefficient (and odds ratio < 1) indicates that increasing the predictor variable decreases the odds of the outcome."
      ],
      "metadata": {
        "id": "u3IpXoa5RgrA"
      }
    },
    {
      "cell_type": "markdown",
      "source": [
        "##PRACTICAL QUESTION SOLUTIONS:"
      ],
      "metadata": {
        "id": "o0qr28cuUdhL"
      }
    },
    {
      "cell_type": "code",
      "source": [
        "#1- Write a Python program that loads a dataset, splits it into training and testing sets, applies Logistic regresion, and prints the model accuracy?\n",
        "# Import necessary libraries\n",
        "from sklearn.datasets import load_iris\n",
        "from sklearn.model_selection import train_test_split\n",
        "from sklearn.linear_model import LogisticRegression\n",
        "from sklearn.metrics import accuracy_score\n",
        "\n",
        "# Load the Iris dataset\n",
        "iris = load_iris()\n",
        "\n",
        "# Use only two classes for binary classification (e.g., class 0 and 1)\n",
        "X = iris.data[iris.target != 2]\n",
        "y = iris.target[iris.target != 2]\n",
        "\n",
        "# Split the dataset into training and testing sets (80% train, 20% test)\n",
        "X_train, X_test, y_train, y_test = train_test_split(X, y, test_size=0.2, random_state=42)\n",
        "\n",
        "# Create a Logistic Regression model\n",
        "model = LogisticRegression()\n",
        "\n",
        "# Train the model\n",
        "model.fit(X_train, y_train)\n",
        "\n",
        "# Predict on the test set\n",
        "y_pred = model.predict(X_test)\n",
        "\n",
        "# Calculate and print the accuracy\n",
        "accuracy = accuracy_score(y_test, y_pred)\n",
        "print(\"Model Accuracy:\", accuracy)\n",
        "\n"
      ],
      "metadata": {
        "colab": {
          "base_uri": "https://localhost:8080/"
        },
        "id": "T68nFi7bWl68",
        "outputId": "36383036-7229-4426-a690-c4940471f0cf"
      },
      "execution_count": null,
      "outputs": [
        {
          "output_type": "stream",
          "name": "stdout",
          "text": [
            "Model Accuracy: 1.0\n"
          ]
        }
      ]
    },
    {
      "cell_type": "code",
      "source": [
        "#2-  Write a Python program to apply L1 regularization (Lasso) on a dataset using LogisticRegression(penalty='l1') and print the model accuracy.\n",
        "# Import necessary libraries\n",
        "from sklearn.datasets import load_iris\n",
        "from sklearn.model_selection import train_test_split\n",
        "from sklearn.linear_model import LogisticRegression\n",
        "from sklearn.metrics import accuracy_score\n",
        "\n",
        "# Load the Iris dataset\n",
        "iris = load_iris()\n",
        "\n",
        "# Use only two classes for binary classification\n",
        "X = iris.data[iris.target != 2]\n",
        "y = iris.target[iris.target != 2]\n",
        "\n",
        "# Split into training and testing sets\n",
        "X_train, X_test, y_train, y_test = train_test_split(X, y, test_size=0.2, random_state=42)\n",
        "\n",
        "# Create Logistic Regression model with L1 regularization\n",
        "model = LogisticRegression(penalty='l1', solver='liblinear')\n",
        "\n",
        "# Train the model\n",
        "model.fit(X_train, y_train)\n",
        "\n",
        "# Predict on the test set\n",
        "y_pred = model.predict(X_test)\n",
        "\n",
        "# Calculate and print accuracy\n",
        "accuracy = accuracy_score(y_test, y_pred)\n",
        "print(\"L1-Regularized Model Accuracy:\", accuracy)\n"
      ],
      "metadata": {
        "colab": {
          "base_uri": "https://localhost:8080/"
        },
        "id": "y8rXtN7wbbBV",
        "outputId": "da3de43a-143f-4078-eebe-a9a1b8980fd3"
      },
      "execution_count": null,
      "outputs": [
        {
          "output_type": "stream",
          "name": "stdout",
          "text": [
            "L1-Regularized Model Accuracy: 1.0\n"
          ]
        }
      ]
    },
    {
      "cell_type": "code",
      "source": [
        "#3- Write a Python program to train Logistic Regression with L2 regularization (Ridge) using logistic regression (penality= '12'). print model accuracy and coefficients.\n",
        "# Import libraries\n",
        "from sklearn.datasets import load_iris\n",
        "from sklearn.model_selection import train_test_split\n",
        "from sklearn.linear_model import LogisticRegression\n",
        "from sklearn.metrics import accuracy_score\n",
        "\n",
        "# Load the Iris dataset\n",
        "iris = load_iris()\n",
        "\n",
        "# Use only two classes for binary classification\n",
        "X = iris.data[iris.target != 2]\n",
        "y = iris.target[iris.target != 2]\n",
        "\n",
        "# Split dataset into train and test sets\n",
        "X_train, X_test, y_train, y_test = train_test_split(X, y, test_size=0.2, random_state=42)\n",
        "\n",
        "# Create logistic regression model with L2 regularization\n",
        "model = LogisticRegression(penalty='l2', solver='liblinear')\n",
        "\n",
        "# Train the model\n",
        "model.fit(X_train, y_train)\n",
        "\n",
        "# Predict using the model\n",
        "y_pred = model.predict(X_test)\n",
        "\n",
        "# Calculate and print accuracy\n",
        "accuracy = accuracy_score(y_test, y_pred)\n",
        "print(\"L2-Regularized Model Accuracy:\", accuracy)\n",
        "\n",
        "# Print model coefficients\n",
        "print(\"Model Coefficients:\", model.coef_)\n",
        "print(\"Model Intercept:\", model.intercept_)\n"
      ],
      "metadata": {
        "colab": {
          "base_uri": "https://localhost:8080/"
        },
        "id": "jmeFNADxcDot",
        "outputId": "d9fbe205-54aa-4183-df4f-db69ef60414b"
      },
      "execution_count": null,
      "outputs": [
        {
          "output_type": "stream",
          "name": "stdout",
          "text": [
            "L2-Regularized Model Accuracy: 1.0\n",
            "Model Coefficients: [[-0.3753915  -1.39664105  2.15250857  0.96423532]]\n",
            "Model Intercept: [-0.25637406]\n"
          ]
        }
      ]
    },
    {
      "cell_type": "code",
      "source": [
        "#4- Write a Python program to train Logistic Regression with Elastic Net Regularization (penalty='elasticnet').\n",
        "from sklearn.datasets import load_iris\n",
        "from sklearn.model_selection import train_test_split\n",
        "from sklearn.linear_model import LogisticRegression\n",
        "from sklearn.metrics import accuracy_score\n",
        "\n",
        "# Load the Iris dataset\n",
        "iris = load_iris()\n",
        "\n",
        "# Use only two classes for binary classification\n",
        "X = iris.data[iris.target != 2]\n",
        "y = iris.target[iris.target != 2]\n",
        "\n",
        "# Split the dataset\n",
        "X_train, X_test, y_train, y_test = train_test_split(X, y, test_size=0.2, random_state=42)\n",
        "\n",
        "# Create logistic regression model with Elastic Net regularization\n",
        "model = LogisticRegression(penalty='elasticnet', solver='saga', l1_ratio=0.5, max_iter=1000)\n",
        "\n",
        "# Train the model\n",
        "model.fit(X_train, y_train)\n",
        "\n",
        "# Predict\n",
        "y_pred = model.predict(X_test)\n",
        "\n",
        "# Evaluate the model\n",
        "accuracy = accuracy_score(y_test, y_pred)\n",
        "print(\"Elastic Net Regularized Model Accuracy:\", accuracy)\n",
        "print(\"Model Coefficients:\", model.coef_)\n",
        "print(\"Model Intercept:\", model.intercept_)\n"
      ],
      "metadata": {
        "colab": {
          "base_uri": "https://localhost:8080/"
        },
        "id": "2lhlNyXccynA",
        "outputId": "7ca1814f-4fee-4695-8cf5-8ba12d508617"
      },
      "execution_count": null,
      "outputs": [
        {
          "output_type": "stream",
          "name": "stdout",
          "text": [
            "Elastic Net Regularized Model Accuracy: 1.0\n",
            "Model Coefficients: [[ 0.         -0.95182236  2.54089362  0.57108796]]\n",
            "Model Intercept: [-4.33992216]\n"
          ]
        },
        {
          "output_type": "stream",
          "name": "stderr",
          "text": [
            "/usr/local/lib/python3.11/dist-packages/sklearn/linear_model/_sag.py:348: ConvergenceWarning: The max_iter was reached which means the coef_ did not converge\n",
            "  warnings.warn(\n"
          ]
        }
      ]
    },
    {
      "cell_type": "code",
      "source": [
        "#5- Write a Python program to train a Logistic Regression model for multiclass classification using multi_class='ovr'\n",
        "from sklearn.datasets import load_iris\n",
        "from sklearn.model_selection import train_test_split\n",
        "from sklearn.linear_model import LogisticRegression\n",
        "from sklearn.metrics import accuracy_score\n",
        "\n",
        "# Load the Iris dataset (3 classes)\n",
        "iris = load_iris()\n",
        "X = iris.data\n",
        "y = iris.target\n",
        "\n",
        "# Split the dataset into training and testing sets\n",
        "X_train, X_test, y_train, y_test = train_test_split(X, y, test_size=0.2, random_state=42)\n",
        "\n",
        "# Create Logistic Regression model with One-vs-Rest strategy\n",
        "model = LogisticRegression(multi_class='ovr', solver='liblinear')\n",
        "\n",
        "# Train the model\n",
        "model.fit(X_train, y_train)\n",
        "\n",
        "# Predict on test set\n",
        "y_pred = model.predict(X_test)\n",
        "\n",
        "# Evaluate and print accuracy\n",
        "accuracy = accuracy_score(y_test, y_pred)\n",
        "print(\"Multiclass (OvR) Logistic Regression Accuracy:\", accuracy)\n",
        "\n",
        "# Print coefficients and intercepts\n",
        "print(\"Model Coefficients:\\n\", model.coef_)\n",
        "print(\"Model Intercepts:\", model.intercept_)\n"
      ],
      "metadata": {
        "colab": {
          "base_uri": "https://localhost:8080/"
        },
        "id": "vldHg1rjdEEs",
        "outputId": "ae100bd4-cf03-47d3-e046-3df04eac4a1f"
      },
      "execution_count": null,
      "outputs": [
        {
          "output_type": "stream",
          "name": "stdout",
          "text": [
            "Multiclass (OvR) Logistic Regression Accuracy: 1.0\n",
            "Model Coefficients:\n",
            " [[ 0.3711229   1.409712   -2.15210117 -0.95474179]\n",
            " [ 0.49400451 -1.58897112  0.43717015 -1.11187838]\n",
            " [-1.55895271 -1.58893375  2.39874554  2.15556209]]\n",
            "Model Intercepts: [ 0.2478905   0.86408083 -1.00411267]\n"
          ]
        },
        {
          "output_type": "stream",
          "name": "stderr",
          "text": [
            "/usr/local/lib/python3.11/dist-packages/sklearn/linear_model/_logistic.py:1256: FutureWarning: 'multi_class' was deprecated in version 1.5 and will be removed in 1.7. Use OneVsRestClassifier(LogisticRegression(..)) instead. Leave it to its default value to avoid this warning.\n",
            "  warnings.warn(\n"
          ]
        }
      ]
    },
    {
      "cell_type": "code",
      "source": [
        "#6-Write a Python program to apply GridSearchCV to tune the hyperparameters (C and penalty) of Logistic regression, print the best parameters nd accuracy.\n",
        "from sklearn.datasets import load_iris\n",
        "from sklearn.model_selection import train_test_split, GridSearchCV\n",
        "from sklearn.linear_model import LogisticRegression\n",
        "from sklearn.metrics import accuracy_score\n",
        "\n",
        "# Load the Iris dataset (binary classification for simplicity)\n",
        "iris = load_iris()\n",
        "X = iris.data[iris.target != 2]\n",
        "y = iris.target[iris.target != 2]\n",
        "\n",
        "# Split into training and testing sets\n",
        "X_train, X_test, y_train, y_test = train_test_split(X, y, test_size=0.2, random_state=42)\n",
        "\n",
        "# Define the parameter grid\n",
        "param_grid = {\n",
        "    'C': [0.01, 0.1, 1, 10],            # Regularization strength\n",
        "    'penalty': ['l1', 'l2'],            # Type of regularization\n",
        "    'solver': ['liblinear']             # Solver that supports both l1 and l2\n",
        "}\n",
        "\n",
        "# Create the Logistic Regression model\n",
        "logreg = LogisticRegression()\n",
        "\n",
        "# Use GridSearchCV to find the best parameters\n",
        "grid = GridSearchCV(logreg, param_grid, cv=5)\n",
        "grid.fit(X_train, y_train)\n",
        "\n",
        "# Best parameters and model\n",
        "print(\"Best Parameters:\", grid.best_params_)\n",
        "\n",
        "# Predict and evaluate on test set\n",
        "y_pred = grid.predict(X_test)\n",
        "accuracy = accuracy_score(y_test, y_pred)\n",
        "print(\"Test Set Accuracy with Best Parameters:\", accuracy)\n"
      ],
      "metadata": {
        "colab": {
          "base_uri": "https://localhost:8080/"
        },
        "id": "Sv_eXFQndZdX",
        "outputId": "3520f193-0545-4a0c-c2a7-5b708e839625"
      },
      "execution_count": null,
      "outputs": [
        {
          "output_type": "stream",
          "name": "stdout",
          "text": [
            "Best Parameters: {'C': 0.01, 'penalty': 'l2', 'solver': 'liblinear'}\n",
            "Test Set Accuracy with Best Parameters: 1.0\n"
          ]
        }
      ]
    },
    {
      "cell_type": "code",
      "source": [
        "#7- Write a Python program to evaluate Logistic Regression using Stratified K-Fold Cross-Validation. Print the average accuracy.\n",
        "from sklearn.datasets import load_iris\n",
        "from sklearn.linear_model import LogisticRegression\n",
        "from sklearn.model_selection import StratifiedKFold, cross_val_score\n",
        "import numpy as np\n",
        "\n",
        "# Load the Iris dataset (for multiclass classification)\n",
        "iris = load_iris()\n",
        "X = iris.data\n",
        "y = iris.target\n",
        "\n",
        "# Define Stratified K-Fold cross-validator\n",
        "skf = StratifiedKFold(n_splits=5, shuffle=True, random_state=42)\n",
        "\n",
        "# Create Logistic Regression model\n",
        "model = LogisticRegression(max_iter=1000)\n",
        "\n",
        "# Evaluate model using cross-validation\n",
        "scores = cross_val_score(model, X, y, cv=skf, scoring='accuracy')\n",
        "\n",
        "# Print individual fold scores and average accuracy\n",
        "print(\"Cross-Validation Accuracies:\", scores)\n",
        "print(\"Average Accuracy:\", np.mean(scores))\n"
      ],
      "metadata": {
        "colab": {
          "base_uri": "https://localhost:8080/"
        },
        "id": "YmiAQ2jWdy0j",
        "outputId": "16eba572-8aa8-4477-b9c5-c935586d8731"
      },
      "execution_count": null,
      "outputs": [
        {
          "output_type": "stream",
          "name": "stdout",
          "text": [
            "Cross-Validation Accuracies: [1.         0.96666667 0.93333333 1.         0.93333333]\n",
            "Average Accuracy: 0.9666666666666668\n"
          ]
        }
      ]
    },
    {
      "cell_type": "code",
      "source": [
        "#8- Write a Python program to load a dataset from a CSV file, apply Logistic Regression, and evaluate its accuracy\n",
        "import pandas as pd\n",
        "from sklearn.model_selection import train_test_split\n",
        "from sklearn.linear_model import LogisticRegression\n",
        "from sklearn.metrics import accuracy_score, classification_report, confusion_matrix\n",
        "from sklearn.preprocessing import StandardScaler\n",
        "\n",
        "def logistic_regression_from_csv(file_path, target_column, test_size=0.2, random_state=42):\n",
        "    \"\"\"\n",
        "    Perform logistic regression on a dataset from a CSV file and evaluate its accuracy.\n",
        "\n",
        "    Parameters:\n",
        "    - file_path: Path to the CSV file\n",
        "    - target_column: Name of the target variable column\n",
        "    - test_size: Proportion of dataset to include in test split (default: 0.2)\n",
        "    - random_state: Random seed for reproducibility (default: 42)\n",
        "    \"\"\"\n",
        "\n",
        "    # Step 1: Load the dataset\n",
        "    try:\n",
        "        data = pd.read_csv(file_path)\n",
        "        print(\"Dataset loaded successfully.\")\n",
        "        print(f\"Shape of dataset: {data.shape}\")\n",
        "        print(\"\\nFirst 5 rows:\")\n",
        "        print(data.head())\n",
        "    except FileNotFoundError:\n",
        "        print(f\"Error: File not found at {file_path}\")\n",
        "        return\n",
        "    except Exception as e:\n",
        "        print(f\"Error loading file: {e}\")\n",
        "        return\n",
        "\n",
        "    # Check if target column exists\n",
        "    if target_column not in data.columns:\n",
        "        print(f\"Error: Target column '{target_column}' not found in dataset.\")\n",
        "        return\n",
        "\n",
        "    # Step 2: Prepare the data\n",
        "    X = data.drop(columns=[target_column])  # Features\n",
        "    y = data[target_column]  # Target variable\n",
        "\n",
        "    # Convert categorical variables to dummy variables\n",
        "    X = pd.get_dummies(X)\n",
        "\n",
        "    # Step 3: Split the data into training and testing sets\n",
        "    X_train, X_test, y_train, y_test = train_test_split(\n",
        "        X, y, test_size=test_size, random_state=random_state\n",
        "    )\n",
        "\n",
        "    # Step 4: Feature scaling (important for logistic regression)\n",
        "    scaler = StandardScaler()\n",
        "    X_train = scaler.fit_transform(X_train)\n",
        "    X_test = scaler.transform(X_test)\n",
        "\n",
        "    # Step 5: Create and train the logistic regression model\n",
        "    print(\"\\nTraining logistic regression model...\")\n",
        "    model = LogisticRegression(max_iter=1000, random_state=random_state)\n",
        "    model.fit(X_train, y_train)\n",
        "\n",
        "    # Step 6: Make predictions\n",
        "    y_pred = model.predict(X_test)\n",
        "\n",
        "    # Step 7: Evaluate the model\n",
        "    accuracy = accuracy_score(y_test, y_pred)\n",
        "    print(\"\\nModel Evaluation:\")\n",
        "    print(f\"Accuracy: {accuracy:.4f}\")\n",
        "\n",
        "    print(\"\\nClassification Report:\")\n",
        "    print(classification_report(y_test, y_pred))\n",
        "\n",
        "    print(\"\\nConfusion Matrix:\")\n",
        "    print(confusion_matrix(y_test, y_pred))\n",
        "\n",
        "    return model\n",
        "\n",
        "# Example usage:\n",
        "if __name__ == \"__main__\":\n",
        "    # Replace with your CSV file path and target column name\n",
        "    csv_file = \"your_dataset.csv\"\n",
        "    target_col = \"target\"\n",
        "\n",
        "    # Call the function\n",
        "    trained_model = logistic_regression_from_csv(csv_file, target_col)\n"
      ],
      "metadata": {
        "colab": {
          "base_uri": "https://localhost:8080/"
        },
        "id": "gOXitZ7zeHXQ",
        "outputId": "a58942f7-f907-4c81-803b-f12822286d83"
      },
      "execution_count": null,
      "outputs": [
        {
          "output_type": "stream",
          "name": "stdout",
          "text": [
            "Error: File not found at your_dataset.csv\n"
          ]
        }
      ]
    },
    {
      "cell_type": "code",
      "source": [
        "#9-Write a Python program to apply RandomizedSearchCV for tuning hyperparameters (C, penalty, solver) in logistic regression.print the best parameters nd accuracy.\n",
        "import pandas as pd\n",
        "import numpy as np\n",
        "from sklearn.datasets import load_iris\n",
        "from sklearn.linear_model import LogisticRegression\n",
        "from sklearn.model_selection import train_test_split, RandomizedSearchCV\n",
        "from sklearn.metrics import accuracy_score\n",
        "from scipy.stats import uniform\n",
        "\n",
        "# Load dataset (Iris for multiclass example)\n",
        "iris = load_iris()\n",
        "X = iris.data\n",
        "y = iris.target\n",
        "\n",
        "# Split into train and test sets\n",
        "X_train, X_test, y_train, y_test = train_test_split(X, y, test_size=0.2, random_state=42)\n",
        "\n",
        "# Define the Logistic Regression model\n",
        "model = LogisticRegression(max_iter=1000)\n",
        "\n",
        "# Define hyperparameter search space\n",
        "param_distributions = {\n",
        "    'C': uniform(0.01, 10),  # Continuous values from 0.01 to 10\n",
        "    'penalty': ['l1', 'l2'],  # Regularization type\n",
        "    'solver': ['liblinear', 'saga']  # Solvers that support l1 and l2\n",
        "}\n",
        "\n",
        "# Setup RandomizedSearchCV\n",
        "random_search = RandomizedSearchCV(\n",
        "    model,\n",
        "    param_distributions=param_distributions,\n",
        "    n_iter=20,  # Number of random combinations to try\n",
        "    cv=5,\n",
        "    scoring='accuracy',\n",
        "    random_state=42\n",
        ")\n",
        "\n",
        "# Fit the random search model\n",
        "random_search.fit(X_train, y_train)\n",
        "\n",
        "# Best parameters and score\n",
        "print(\"Best Parameters:\", random_search.best_params_)\n",
        "\n",
        "# Evaluate on test data\n",
        "best_model = random_search.best_estimator_\n",
        "y_pred = best_model.predict(X_test)\n",
        "accuracy = accuracy_score(y_test, y_pred)\n",
        "print(\"Test Set Accuracy with Best Parameters:\", accuracy)\n"
      ],
      "metadata": {
        "colab": {
          "base_uri": "https://localhost:8080/"
        },
        "id": "5UhmEBmIeZcV",
        "outputId": "17d71558-5f74-4ad0-9d77-602a615ec78b"
      },
      "execution_count": null,
      "outputs": [
        {
          "output_type": "stream",
          "name": "stderr",
          "text": [
            "/usr/local/lib/python3.11/dist-packages/sklearn/linear_model/_sag.py:348: ConvergenceWarning: The max_iter was reached which means the coef_ did not converge\n",
            "  warnings.warn(\n",
            "/usr/local/lib/python3.11/dist-packages/sklearn/linear_model/_sag.py:348: ConvergenceWarning: The max_iter was reached which means the coef_ did not converge\n",
            "  warnings.warn(\n",
            "/usr/local/lib/python3.11/dist-packages/sklearn/linear_model/_sag.py:348: ConvergenceWarning: The max_iter was reached which means the coef_ did not converge\n",
            "  warnings.warn(\n",
            "/usr/local/lib/python3.11/dist-packages/sklearn/linear_model/_sag.py:348: ConvergenceWarning: The max_iter was reached which means the coef_ did not converge\n",
            "  warnings.warn(\n",
            "/usr/local/lib/python3.11/dist-packages/sklearn/linear_model/_sag.py:348: ConvergenceWarning: The max_iter was reached which means the coef_ did not converge\n",
            "  warnings.warn(\n",
            "/usr/local/lib/python3.11/dist-packages/sklearn/linear_model/_sag.py:348: ConvergenceWarning: The max_iter was reached which means the coef_ did not converge\n",
            "  warnings.warn(\n",
            "/usr/local/lib/python3.11/dist-packages/sklearn/linear_model/_sag.py:348: ConvergenceWarning: The max_iter was reached which means the coef_ did not converge\n",
            "  warnings.warn(\n",
            "/usr/local/lib/python3.11/dist-packages/sklearn/linear_model/_sag.py:348: ConvergenceWarning: The max_iter was reached which means the coef_ did not converge\n",
            "  warnings.warn(\n",
            "/usr/local/lib/python3.11/dist-packages/sklearn/linear_model/_sag.py:348: ConvergenceWarning: The max_iter was reached which means the coef_ did not converge\n",
            "  warnings.warn(\n",
            "/usr/local/lib/python3.11/dist-packages/sklearn/linear_model/_sag.py:348: ConvergenceWarning: The max_iter was reached which means the coef_ did not converge\n",
            "  warnings.warn(\n",
            "/usr/local/lib/python3.11/dist-packages/sklearn/linear_model/_sag.py:348: ConvergenceWarning: The max_iter was reached which means the coef_ did not converge\n",
            "  warnings.warn(\n",
            "/usr/local/lib/python3.11/dist-packages/sklearn/linear_model/_sag.py:348: ConvergenceWarning: The max_iter was reached which means the coef_ did not converge\n",
            "  warnings.warn(\n",
            "/usr/local/lib/python3.11/dist-packages/sklearn/linear_model/_sag.py:348: ConvergenceWarning: The max_iter was reached which means the coef_ did not converge\n",
            "  warnings.warn(\n",
            "/usr/local/lib/python3.11/dist-packages/sklearn/linear_model/_sag.py:348: ConvergenceWarning: The max_iter was reached which means the coef_ did not converge\n",
            "  warnings.warn(\n",
            "/usr/local/lib/python3.11/dist-packages/sklearn/linear_model/_sag.py:348: ConvergenceWarning: The max_iter was reached which means the coef_ did not converge\n",
            "  warnings.warn(\n",
            "/usr/local/lib/python3.11/dist-packages/sklearn/linear_model/_sag.py:348: ConvergenceWarning: The max_iter was reached which means the coef_ did not converge\n",
            "  warnings.warn(\n",
            "/usr/local/lib/python3.11/dist-packages/sklearn/linear_model/_sag.py:348: ConvergenceWarning: The max_iter was reached which means the coef_ did not converge\n",
            "  warnings.warn(\n",
            "/usr/local/lib/python3.11/dist-packages/sklearn/linear_model/_sag.py:348: ConvergenceWarning: The max_iter was reached which means the coef_ did not converge\n",
            "  warnings.warn(\n",
            "/usr/local/lib/python3.11/dist-packages/sklearn/linear_model/_sag.py:348: ConvergenceWarning: The max_iter was reached which means the coef_ did not converge\n",
            "  warnings.warn(\n",
            "/usr/local/lib/python3.11/dist-packages/sklearn/linear_model/_sag.py:348: ConvergenceWarning: The max_iter was reached which means the coef_ did not converge\n",
            "  warnings.warn(\n",
            "/usr/local/lib/python3.11/dist-packages/sklearn/linear_model/_sag.py:348: ConvergenceWarning: The max_iter was reached which means the coef_ did not converge\n",
            "  warnings.warn(\n"
          ]
        },
        {
          "output_type": "stream",
          "name": "stdout",
          "text": [
            "Best Parameters: {'C': np.float64(8.334426408004218), 'penalty': 'l2', 'solver': 'saga'}\n",
            "Test Set Accuracy with Best Parameters: 1.0\n"
          ]
        },
        {
          "output_type": "stream",
          "name": "stderr",
          "text": [
            "/usr/local/lib/python3.11/dist-packages/sklearn/linear_model/_sag.py:348: ConvergenceWarning: The max_iter was reached which means the coef_ did not converge\n",
            "  warnings.warn(\n",
            "/usr/local/lib/python3.11/dist-packages/sklearn/linear_model/_sag.py:348: ConvergenceWarning: The max_iter was reached which means the coef_ did not converge\n",
            "  warnings.warn(\n",
            "/usr/local/lib/python3.11/dist-packages/sklearn/linear_model/_sag.py:348: ConvergenceWarning: The max_iter was reached which means the coef_ did not converge\n",
            "  warnings.warn(\n"
          ]
        }
      ]
    },
    {
      "cell_type": "code",
      "source": [
        "#10-Write a Python program to implement One-vs-One (OvO) Multiclass Logistic Regression and print accuracy\n",
        "from sklearn.datasets import load_iris\n",
        "from sklearn.model_selection import train_test_split\n",
        "from sklearn.linear_model import LogisticRegression\n",
        "from sklearn.multiclass import OneVsOneClassifier\n",
        "from sklearn.metrics import accuracy_score\n",
        "\n",
        "# Load the Iris dataset (multiclass: 3 classes)\n",
        "iris = load_iris()\n",
        "X = iris.data\n",
        "y = iris.target\n",
        "\n",
        "# Split the dataset into training and testing sets\n",
        "X_train, X_test, y_train, y_test = train_test_split(X, y, test_size=0.2, random_state=42)\n",
        "\n",
        "# Create a base Logistic Regression model\n",
        "base_model = LogisticRegression(max_iter=1000)\n",
        "\n",
        "# Wrap the model in a One-vs-One classifier\n",
        "ovo_model = OneVsOneClassifier(base_model)\n",
        "\n",
        "# Train the model\n",
        "ovo_model.fit(X_train, y_train)\n",
        "\n",
        "# Predict on the test set\n",
        "y_pred = ovo_model.predict(X_test)\n",
        "\n",
        "# Calculate and print accuracy\n",
        "accuracy = accuracy_score(y_test, y_pred)\n",
        "print(\"One-vs-One Logistic Regression Accuracy:\", accuracy)\n"
      ],
      "metadata": {
        "colab": {
          "base_uri": "https://localhost:8080/"
        },
        "id": "IlP83l16fP1h",
        "outputId": "88d77e96-d66c-40d6-f378-765de1818e65"
      },
      "execution_count": null,
      "outputs": [
        {
          "output_type": "stream",
          "name": "stdout",
          "text": [
            "One-vs-One Logistic Regression Accuracy: 1.0\n"
          ]
        }
      ]
    },
    {
      "cell_type": "code",
      "source": [
        "#11-Write a Python program to train a Logistic Regression model and visualize the confusion matrix for binary classification.\n",
        "import numpy as np\n",
        "import matplotlib.pyplot as plt\n",
        "import seaborn as sns\n",
        "from sklearn.datasets import load_breast_cancer\n",
        "from sklearn.model_selection import train_test_split\n",
        "from sklearn.linear_model import LogisticRegression\n",
        "from sklearn.metrics import confusion_matrix, ConfusionMatrixDisplay, accuracy_score\n",
        "\n",
        "# 1. Load dataset\n",
        "data = load_breast_cancer()\n",
        "X = data.data\n",
        "y = data.target\n",
        "\n",
        "# 2. Split into train and test sets\n",
        "X_train, X_test, y_train, y_test = train_test_split(X, y, test_size=0.2, random_state=42)\n",
        "\n",
        "# 3. Train Logistic Regression model\n",
        "model = LogisticRegression(max_iter=10000)\n",
        "model.fit(X_train, y_train)\n",
        "\n",
        "# 4. Predict on test data\n",
        "y_pred = model.predict(X_test)\n",
        "\n",
        "# 5. Compute confusion matrix\n",
        "cm = confusion_matrix(y_test, y_pred)\n",
        "acc = accuracy_score(y_test, y_pred)\n",
        "\n",
        "# 6. Visualize confusion matrix\n",
        "plt.figure(figsize=(6, 4))\n",
        "sns.heatmap(cm, annot=True, fmt='d', cmap='Blues', xticklabels=data.target_names, yticklabels=data.target_names)\n",
        "plt.title(f'Confusion Matrix\\nAccuracy: {acc:.2f}')\n",
        "plt.xlabel('Predicted')\n",
        "plt.ylabel('Actual')\n",
        "plt.tight_layout()\n",
        "plt.show()\n"
      ],
      "metadata": {
        "id": "Qj7iqGp1f04V",
        "colab": {
          "base_uri": "https://localhost:8080/",
          "height": 407
        },
        "outputId": "b140e80d-5c6c-4b7c-8b28-2ba0d321ca79"
      },
      "execution_count": 2,
      "outputs": [
        {
          "output_type": "display_data",
          "data": {
            "text/plain": [
              "<Figure size 600x400 with 2 Axes>"
            ],
            "image/png": "[encoded data removed]"
          },
          "metadata": {}
        }
      ]
    },
    {
      "cell_type": "code",
      "source": [
        "#12- Write a Python program to train a Logistic Regression model and evaluate its performance using Precision,recall, and f1-score.\n",
        "from sklearn.datasets import load_breast_cancer\n",
        "from sklearn.model_selection import train_test_split\n",
        "from sklearn.linear_model import LogisticRegression\n",
        "from sklearn.metrics import precision_score, recall_score, f1_score, classification_report\n",
        "\n",
        "# 1. Load dataset\n",
        "data = load_breast_cancer()\n",
        "X = data.data\n",
        "y = data.target\n",
        "\n",
        "# 2. Split into train and test sets\n",
        "X_train, X_test, y_train, y_test = train_test_split(X, y, test_size=0.2, random_state=42)\n",
        "\n",
        "# 3. Train Logistic Regression model\n",
        "model = LogisticRegression(max_iter=10000)\n",
        "model.fit(X_train, y_train)\n",
        "\n",
        "# 4. Predict on test data\n",
        "y_pred = model.predict(X_test)\n",
        "\n",
        "# 5. Evaluate performance\n",
        "precision = precision_score(y_test, y_pred)\n",
        "recall = recall_score(y_test, y_pred)\n",
        "f1 = f1_score(y_test, y_pred)\n",
        "\n",
        "# 6. Print metrics\n",
        "print(\"Precision:\", round(precision, 2))\n",
        "print(\"Recall:\", round(recall, 2))\n",
        "print(\"F1-score:\", round(f1, 2))\n",
        "\n",
        "# Optional: detailed classification report\n",
        "print(\"\\nClassification Report:\\n\", classification_report(y_test, y_pred, target_names=data.target_names))\n"
      ],
      "metadata": {
        "colab": {
          "base_uri": "https://localhost:8080/"
        },
        "id": "3cUfBnMZnRCk",
        "outputId": "488abebf-2511-4958-9cf6-e9e6f4b67ace"
      },
      "execution_count": 3,
      "outputs": [
        {
          "output_type": "stream",
          "name": "stdout",
          "text": [
            "Precision: 0.95\n",
            "Recall: 0.99\n",
            "F1-score: 0.97\n",
            "\n",
            "Classification Report:\n",
            "               precision    recall  f1-score   support\n",
            "\n",
            "   malignant       0.97      0.91      0.94        43\n",
            "      benign       0.95      0.99      0.97        71\n",
            "\n",
            "    accuracy                           0.96       114\n",
            "   macro avg       0.96      0.95      0.95       114\n",
            "weighted avg       0.96      0.96      0.96       114\n",
            "\n"
          ]
        }
      ]
    },
    {
      "cell_type": "code",
      "source": [
        "#13- Write a Python program to train a Logistic Regression model on imbalanced data and apply class weights to improve mode performance.\n",
        "from sklearn.datasets import make_classification\n",
        "from sklearn.model_selection import train_test_split\n",
        "from sklearn.linear_model import LogisticRegression\n",
        "from sklearn.metrics import classification_report, ConfusionMatrixDisplay\n",
        "import matplotlib.pyplot as plt\n",
        "\n",
        "# 1. Generate imbalanced dataset\n",
        "X, y = make_classification(n_samples=2000, n_features=10, n_classes=2,\n",
        "                           weights=[0.9, 0.1], flip_y=0.01, random_state=42)\n",
        "\n",
        "# 2. Split data into train and test sets\n",
        "X_train, X_test, y_train, y_test = train_test_split(X, y, test_size=0.2, random_state=42)\n",
        "\n",
        "# 3. Train model WITHOUT class weights\n",
        "model_default = LogisticRegression(max_iter=1000)\n",
        "model_default.fit(X_train, y_train)\n",
        "y_pred_default = model_default.predict(X_test)\n",
        "\n",
        "print(\"=== Without Class Weights ===\")\n",
        "print(classification_report(y_test, y_pred_default))\n",
        "\n",
        "# 4. Train model WITH class_weight='balanced'\n",
        "model_weighted = LogisticRegression(class_weight='balanced', max_iter=1000)\n",
        "model_weighted.fit(X_train, y_train)\n",
        "y_pred_weighted = model_weighted.predict(X_test)\n",
        "\n",
        "print(\"=== With class_weight='balanced' ===\")\n",
        "print(classification_report(y_test, y_pred_weighted))\n",
        "\n",
        "# 5. Optional: visualize confusion matrices\n",
        "disp1 = ConfusionMatrixDisplay.from_estimator(model_default, X_test, y_test, cmap='Blues')\n",
        "disp1.ax_.set_title(\"Without Class Weights\")\n",
        "plt.show()\n",
        "\n",
        "disp2 = ConfusionMatrixDisplay.from_estimator(model_weighted, X_test, y_test, cmap='Greens')\n",
        "disp2.ax_.set_title(\"With Class Weights\")\n",
        "plt.show()\n",
        "\n",
        "\n"
      ],
      "metadata": {
        "colab": {
          "base_uri": "https://localhost:8080/",
          "height": 1000
        },
        "id": "uk7f9uphnvmr",
        "outputId": "3f6dd3b7-5dd0-47e6-dc1b-bf7aa86309d0"
      },
      "execution_count": 4,
      "outputs": [
        {
          "output_type": "stream",
          "name": "stdout",
          "text": [
            "=== Without Class Weights ===\n",
            "              precision    recall  f1-score   support\n",
            "\n",
            "           0       0.97      0.98      0.97       356\n",
            "           1       0.82      0.73      0.77        44\n",
            "\n",
            "    accuracy                           0.95       400\n",
            "   macro avg       0.89      0.85      0.87       400\n",
            "weighted avg       0.95      0.95      0.95       400\n",
            "\n",
            "=== With class_weight='balanced' ===\n",
            "              precision    recall  f1-score   support\n",
            "\n",
            "           0       0.99      0.92      0.96       356\n",
            "           1       0.61      0.95      0.74        44\n",
            "\n",
            "    accuracy                           0.93       400\n",
            "   macro avg       0.80      0.94      0.85       400\n",
            "weighted avg       0.95      0.93      0.93       400\n",
            "\n"
          ]
        },
        {
          "output_type": "display_data",
          "data": {
            "text/plain": [
              "<Figure size 640x480 with 2 Axes>"
            ],
            "image/png": "[encoded data removed]"
          },
          "metadata": {}
        },
        {
          "output_type": "display_data",
          "data": {
            "text/plain": [
              "<Figure size 640x480 with 2 Axes>"
            ],
            "image/png": "[encoded data removed]"
          },
          "metadata": {}
        }
      ]
    },
    {
      "cell_type": "code",
      "source": [
        "#14-Write a Python program to train Logistic Regression on the Titanic dataset, handle missing values, and evaluate performance\n",
        "import pandas as pd\n",
        "import seaborn as sns\n",
        "from sklearn.model_selection import train_test_split\n",
        "from sklearn.linear_model import LogisticRegression\n",
        "from sklearn.metrics import classification_report, accuracy_score\n",
        "from sklearn.preprocessing import LabelEncoder\n",
        "\n",
        "# 1. Load Titanic dataset\n",
        "df = sns.load_dataset('titanic')\n",
        "\n",
        "# 2. Select relevant features\n",
        "df = df[['survived', 'pclass', 'sex', 'age', 'sibsp', 'parch', 'fare', 'embarked']]\n",
        "\n",
        "# 3. Handle missing values\n",
        "df['age'].fillna(df['age'].median(), inplace=True)\n",
        "df['embarked'].fillna(df['embarked'].mode()[0], inplace=True)\n",
        "\n",
        "# 4. Encode categorical features\n",
        "df['sex'] = LabelEncoder().fit_transform(df['sex'])         # male:1, female:0\n",
        "df['embarked'] = LabelEncoder().fit_transform(df['embarked'])  # S:2, C:0, Q:1\n",
        "\n",
        "# 5. Split features and target\n",
        "X = df.drop('survived', axis=1)\n",
        "y = df['survived']\n",
        "\n",
        "# 6. Train-test split\n",
        "X_train, X_test, y_train, y_test = train_test_split(X, y, test_size=0.2, random_state=42)\n",
        "\n",
        "# 7. Train Logistic Regression model\n",
        "model = LogisticRegression(max_iter=1000)\n",
        "model.fit(X_train, y_train)\n",
        "\n",
        "# 8. Predict and evaluate\n",
        "y_pred = model.predict(X_test)\n",
        "\n",
        "print(\"Accuracy:\", round(accuracy_score(y_test, y_pred), 2))\n",
        "print(\"\\nClassification Report:\\n\", classification_report(y_test, y_pred))\n"
      ],
      "metadata": {
        "colab": {
          "base_uri": "https://localhost:8080/"
        },
        "id": "IqoGsSkxoYq8",
        "outputId": "c05bf31a-8131-4031-c42e-e73c318fa688"
      },
      "execution_count": 5,
      "outputs": [
        {
          "output_type": "stream",
          "name": "stderr",
          "text": [
            "/tmp/ipython-input-5-4003842108.py:16: FutureWarning: A value is trying to be set on a copy of a DataFrame or Series through chained assignment using an inplace method.\n",
            "The behavior will change in pandas 3.0. This inplace method will never work because the intermediate object on which we are setting values always behaves as a copy.\n",
            "\n",
            "For example, when doing 'df[col].method(value, inplace=True)', try using 'df.method({col: value}, inplace=True)' or df[col] = df[col].method(value) instead, to perform the operation inplace on the original object.\n",
            "\n",
            "\n",
            "  df['age'].fillna(df['age'].median(), inplace=True)\n",
            "/tmp/ipython-input-5-4003842108.py:17: FutureWarning: A value is trying to be set on a copy of a DataFrame or Series through chained assignment using an inplace method.\n",
            "The behavior will change in pandas 3.0. This inplace method will never work because the intermediate object on which we are setting values always behaves as a copy.\n",
            "\n",
            "For example, when doing 'df[col].method(value, inplace=True)', try using 'df.method({col: value}, inplace=True)' or df[col] = df[col].method(value) instead, to perform the operation inplace on the original object.\n",
            "\n",
            "\n",
            "  df['embarked'].fillna(df['embarked'].mode()[0], inplace=True)\n"
          ]
        },
        {
          "output_type": "stream",
          "name": "stdout",
          "text": [
            "Accuracy: 0.81\n",
            "\n",
            "Classification Report:\n",
            "               precision    recall  f1-score   support\n",
            "\n",
            "           0       0.83      0.86      0.84       105\n",
            "           1       0.79      0.74      0.76        74\n",
            "\n",
            "    accuracy                           0.81       179\n",
            "   macro avg       0.81      0.80      0.80       179\n",
            "weighted avg       0.81      0.81      0.81       179\n",
            "\n"
          ]
        }
      ]
    },
    {
      "cell_type": "code",
      "source": [
        "#15- Write a Python program to apply feature scaling (Standardization) before training a Logistic Regression model. Evaluate its accuracy and compare results with and without scaling.\n",
        "from sklearn.datasets import load_breast_cancer\n",
        "from sklearn.model_selection import train_test_split\n",
        "from sklearn.linear_model import LogisticRegression\n",
        "from sklearn.preprocessing import StandardScaler\n",
        "from sklearn.metrics import accuracy_score\n",
        "\n",
        "# 1. Load dataset\n",
        "data = load_breast_cancer()\n",
        "X, y = data.data, data.target\n",
        "\n",
        "# 2. Train-test split\n",
        "X_train, X_test, y_train, y_test = train_test_split(X, y, test_size=0.2, random_state=42)\n",
        "\n",
        "# 3. Train model WITHOUT scaling\n",
        "model_no_scaling = LogisticRegression(max_iter=10000)\n",
        "model_no_scaling.fit(X_train, y_train)\n",
        "y_pred_no_scaling = model_no_scaling.predict(X_test)\n",
        "acc_no_scaling = accuracy_score(y_test, y_pred_no_scaling)\n",
        "\n",
        "# 4. Apply standardization (scaling)\n",
        "scaler = StandardScaler()\n",
        "X_train_scaled = scaler.fit_transform(X_train)\n",
        "X_test_scaled = scaler.transform(X_test)\n",
        "\n",
        "# 5. Train model WITH scaling\n",
        "model_scaled = LogisticRegression(max_iter=10000)\n",
        "model_scaled.fit(X_train_scaled, y_train)\n",
        "y_pred_scaled = model_scaled.predict(X_test_scaled)\n",
        "acc_scaled = accuracy_score(y_test, y_pred_scaled)\n",
        "\n",
        "# 6. Compare results\n",
        "print(f\"Accuracy WITHOUT Scaling: {acc_no_scaling:.4f}\")\n",
        "print(f\"Accuracy WITH Scaling   : {acc_scaled:.4f}\")\n"
      ],
      "metadata": {
        "colab": {
          "base_uri": "https://localhost:8080/"
        },
        "id": "yU3bhBBlo9fR",
        "outputId": "0d9383a7-ccc2-4e33-d592-84ee21ce0508"
      },
      "execution_count": 6,
      "outputs": [
        {
          "output_type": "stream",
          "name": "stdout",
          "text": [
            "Accuracy WITHOUT Scaling: 0.9561\n",
            "Accuracy WITH Scaling   : 0.9737\n"
          ]
        }
      ]
    },
    {
      "cell_type": "code",
      "source": [
        "#16- Write a Python program to train Logistic Regression and evaluate its performance using ROC-AUC score.\n",
        "from sklearn.datasets import load_breast_cancer\n",
        "from sklearn.model_selection import train_test_split\n",
        "from sklearn.linear_model import LogisticRegression\n",
        "from sklearn.metrics import roc_auc_score, roc_curve\n",
        "import matplotlib.pyplot as plt\n",
        "\n",
        "# 1. Load the dataset\n",
        "data = load_breast_cancer()\n",
        "X = data.data\n",
        "y = data.target\n",
        "\n",
        "# 2. Train-test split\n",
        "X_train, X_test, y_train, y_test = train_test_split(X, y, test_size=0.2, random_state=42)\n",
        "\n",
        "# 3. Train Logistic Regression\n",
        "model = LogisticRegression(max_iter=10000)\n",
        "model.fit(X_train, y_train)\n",
        "\n",
        "# 4. Predict probabilities\n",
        "y_probs = model.predict_proba(X_test)[:, 1]  # probabilities for class 1\n",
        "\n",
        "# 5. Compute ROC-AUC score\n",
        "roc_auc = roc_auc_score(y_test, y_probs)\n",
        "print(f\"ROC-AUC Score: {roc_auc:.4f}\")\n",
        "\n",
        "# 6. Plot ROC Curve\n",
        "fpr, tpr, thresholds = roc_curve(y_test, y_probs)\n",
        "plt.figure(figsize=(6, 4))\n",
        "plt.plot(fpr, tpr, label=f\"ROC Curve (AUC = {roc_auc:.2f})\", color='blue')\n",
        "plt.plot([0, 1], [0, 1], linestyle='--', color='gray')\n",
        "plt.xlabel(\"False Positive Rate\")\n",
        "plt.ylabel(\"True Positive Rate\")\n",
        "plt.title(\"ROC Curve - Logistic Regression\")\n",
        "plt.legend(loc=\"lower right\")\n",
        "plt.grid()\n",
        "plt.tight_layout()\n",
        "plt.show()\n"
      ],
      "metadata": {
        "colab": {
          "base_uri": "https://localhost:8080/",
          "height": 424
        },
        "id": "-m9Z8Y7TpksF",
        "outputId": "ad7de41d-4dce-4b5c-a43d-9997f61909c3"
      },
      "execution_count": 7,
      "outputs": [
        {
          "output_type": "stream",
          "name": "stdout",
          "text": [
            "ROC-AUC Score: 0.9977\n"
          ]
        },
        {
          "output_type": "display_data",
          "data": {
            "text/plain": [
              "<Figure size 600x400 with 1 Axes>"
            ],
            "image/png": "[encoded data removed]"
          },
          "metadata": {}
        }
      ]
    },
    {
      "cell_type": "code",
      "source": [
        "#17- Write a Python program to train Logistic Regression using a custom learning rate (C=0.5) and evaluate accuracy\n",
        "from sklearn.datasets import load_breast_cancer\n",
        "from sklearn.model_selection import train_test_split\n",
        "from sklearn.linear_model import LogisticRegression\n",
        "from sklearn.metrics import accuracy_score\n",
        "\n",
        "# 1. Load dataset\n",
        "data = load_breast_cancer()\n",
        "X, y = data.data, data.target\n",
        "\n",
        "# 2. Split into train and test sets\n",
        "X_train, X_test, y_train, y_test = train_test_split(X, y, test_size=0.2, random_state=42)\n",
        "\n",
        "# 3. Train Logistic Regression with custom regularization (C=0.5)\n",
        "model = LogisticRegression(C=0.5, max_iter=10000)\n",
        "model.fit(X_train, y_train)\n",
        "\n",
        "# 4. Predict and evaluate\n",
        "y_pred = model.predict(X_test)\n",
        "accuracy = accuracy_score(y_test, y_pred)\n",
        "\n",
        "print(f\"Accuracy with C=0.5: {accuracy:.4f}\")\n"
      ],
      "metadata": {
        "colab": {
          "base_uri": "https://localhost:8080/"
        },
        "id": "51L9jqNOqKMW",
        "outputId": "1ceddcbc-7453-4b80-8c77-062949e3ffb3"
      },
      "execution_count": 8,
      "outputs": [
        {
          "output_type": "stream",
          "name": "stdout",
          "text": [
            "Accuracy with C=0.5: 0.9649\n"
          ]
        }
      ]
    },
    {
      "cell_type": "code",
      "source": [
        "#18- Write a Python program to train Logistic Regression and identify important features based on model coefficients.\n",
        "import pandas as pd\n",
        "from sklearn.datasets import load_breast_cancer\n",
        "from sklearn.model_selection import train_test_split\n",
        "from sklearn.linear_model import LogisticRegression\n",
        "\n",
        "# 1. Load dataset\n",
        "data = load_breast_cancer()\n",
        "X = pd.DataFrame(data.data, columns=data.feature_names)\n",
        "y = data.target\n",
        "\n",
        "# 2. Split data\n",
        "X_train, X_test, y_train, y_test = train_test_split(X, y, test_size=0.2, random_state=42)\n",
        "\n",
        "# 3. Train Logistic Regression model\n",
        "model = LogisticRegression(max_iter=10000)\n",
        "model.fit(X_train, y_train)\n",
        "\n",
        "# 4. Get feature importance (coefficients)\n",
        "coefficients = model.coef_[0]  # For binary classification, this is a 1D array\n",
        "feature_importance = pd.DataFrame({\n",
        "    'Feature': X.columns,\n",
        "    'Coefficient': coefficients,\n",
        "    'Absolute Importance': abs(coefficients)\n",
        "})\n",
        "\n",
        "# 5. Sort by absolute importance\n",
        "feature_importance = feature_importance.sort_values(by='Absolute Importance', ascending=False)\n",
        "\n",
        "# 6. Display top features\n",
        "print(\"Top important features based on Logistic Regression coefficients:\\n\")\n",
        "print(feature_importance[['Feature', 'Coefficient']].head(10))\n"
      ],
      "metadata": {
        "colab": {
          "base_uri": "https://localhost:8080/"
        },
        "id": "NEwuFue2qmdx",
        "outputId": "be9033a8-3e45-4e6e-abd0-4e248c1d8135"
      },
      "execution_count": 9,
      "outputs": [
        {
          "output_type": "stream",
          "name": "stdout",
          "text": [
            "Top important features based on Logistic Regression coefficients:\n",
            "\n",
            "                 Feature  Coefficient\n",
            "26       worst concavity    -1.428595\n",
            "11         texture error     1.370567\n",
            "0            mean radius     1.027437\n",
            "25     worst compactness    -0.772709\n",
            "28        worst symmetry    -0.746894\n",
            "6         mean concavity    -0.532558\n",
            "27  worst concave points    -0.510929\n",
            "21         worst texture    -0.508877\n",
            "2         mean perimeter    -0.362135\n",
            "24      worst smoothness    -0.307731\n"
          ]
        }
      ]
    },
    {
      "cell_type": "code",
      "source": [
        "#19- Write a Python program to train Logistic Regression and evaluate its performance using Cohen’s Kappa score.\n",
        "from sklearn.datasets import load_breast_cancer\n",
        "from sklearn.model_selection import train_test_split\n",
        "from sklearn.linear_model import LogisticRegression\n",
        "from sklearn.metrics import cohen_kappa_score, accuracy_score\n",
        "\n",
        "# 1. Load dataset\n",
        "data = load_breast_cancer()\n",
        "X, y = data.data, data.target\n",
        "\n",
        "# 2. Split into train and test sets\n",
        "X_train, X_test, y_train, y_test = train_test_split(X, y, test_size=0.2, random_state=42)\n",
        "\n",
        "# 3. Train Logistic Regression model\n",
        "model = LogisticRegression(max_iter=10000)\n",
        "model.fit(X_train, y_train)\n",
        "\n",
        "# 4. Predict on test data\n",
        "y_pred = model.predict(X_test)\n",
        "\n",
        "# 5. Evaluate using Cohen's Kappa Score\n",
        "kappa = cohen_kappa_score(y_test, y_pred)\n",
        "accuracy = accuracy_score(y_test, y_pred)\n",
        "\n",
        "# 6. Print results\n",
        "print(f\"Accuracy: {accuracy:.4f}\")\n",
        "print(f\"Cohen's Kappa Score: {kappa:.4f}\")\n"
      ],
      "metadata": {
        "colab": {
          "base_uri": "https://localhost:8080/"
        },
        "id": "XcZyYg-LrHDe",
        "outputId": "1f58eead-19eb-430c-fdec-53f3b33984d8"
      },
      "execution_count": 10,
      "outputs": [
        {
          "output_type": "stream",
          "name": "stdout",
          "text": [
            "Accuracy: 0.9561\n",
            "Cohen's Kappa Score: 0.9053\n"
          ]
        }
      ]
    },
    {
      "cell_type": "code",
      "source": [
        "#20-Write a Python program to train Logistic Regression and visualize the Precision-Recall Curve for binary classification.\n",
        "import matplotlib.pyplot as plt\n",
        "from sklearn.datasets import load_breast_cancer\n",
        "from sklearn.model_selection import train_test_split\n",
        "from sklearn.linear_model import LogisticRegression\n",
        "from sklearn.metrics import precision_recall_curve, average_precision_score\n",
        "\n",
        "# 1. Load the dataset\n",
        "data = load_breast_cancer()\n",
        "X, y = data.data, data.target\n",
        "\n",
        "# 2. Split into train and test sets\n",
        "X_train, X_test, y_train, y_test = train_test_split(X, y, test_size=0.2, random_state=42)\n",
        "\n",
        "# 3. Train Logistic Regression model\n",
        "model = LogisticRegression(max_iter=10000)\n",
        "model.fit(X_train, y_train)\n",
        "\n",
        "# 4. Predict probabilities for positive class\n",
        "y_scores = model.predict_proba(X_test)[:, 1]\n",
        "\n",
        "# 5. Compute precision, recall, and thresholds\n",
        "precision, recall, thresholds = precision_recall_curve(y_test, y_scores)\n",
        "avg_precision = average_precision_score(y_test, y_scores)\n",
        "\n",
        "# 6. Plot Precision-Recall Curve\n",
        "plt.figure(figsize=(6, 4))\n",
        "plt.plot(recall, precision, label=f'AP = {avg_precision:.2f}', color='blue')\n",
        "plt.xlabel('Recall')\n",
        "plt.ylabel('Precision')\n",
        "plt.title('Precision-Recall Curve - Logistic Regression')\n",
        "plt.legend()\n",
        "plt.grid()\n",
        "plt.tight_layout()\n",
        "plt.show()\n"
      ],
      "metadata": {
        "colab": {
          "base_uri": "https://localhost:8080/",
          "height": 407
        },
        "id": "18qAL1PJrUn5",
        "outputId": "b040f3a7-fba7-4265-fb90-23849a2773c3"
      },
      "execution_count": 11,
      "outputs": [
        {
          "output_type": "display_data",
          "data": {
            "text/plain": [
              "<Figure size 600x400 with 1 Axes>"
            ],
            "image/png": "[encoded data removed]"
          },
          "metadata": {}
        }
      ]
    },
    {
      "cell_type": "code",
      "source": [
        "#21-Write a Python program to train Logistic Regression with different solvers (liblinear, saga, lbfgs) and compare their accurcay.\n",
        "from sklearn.datasets import load_breast_cancer\n",
        "from sklearn.linear_model import LogisticRegression\n",
        "from sklearn.model_selection import train_test_split\n",
        "from sklearn.metrics import accuracy_score\n",
        "\n",
        "# 1. Load dataset\n",
        "data = load_breast_cancer()\n",
        "X, y = data.data, data.target\n",
        "\n",
        "# 2. Train-test split\n",
        "X_train, X_test, y_train, y_test = train_test_split(X, y, test_size=0.2, random_state=42)\n",
        "\n",
        "# 3. Define solvers to test\n",
        "solvers = ['liblinear', 'saga', 'lbfgs']\n",
        "results = {}\n",
        "\n",
        "# 4. Train and evaluate models with different solvers\n",
        "for solver in solvers:\n",
        "    print(f\"\\nTraining with solver: {solver}\")\n",
        "    model = LogisticRegression(solver=solver, max_iter=10000)\n",
        "    model.fit(X_train, y_train)\n",
        "    y_pred = model.predict(X_test)\n",
        "    acc = accuracy_score(y_test, y_pred)\n",
        "    results[solver] = acc\n",
        "    print(f\"Accuracy: {acc:.4f}\")\n",
        "\n",
        "# 5. Summary\n",
        "print(\"\\n=== Accuracy Comparison by Solver ===\")\n",
        "for solver, acc in results.items():\n",
        "    print(f\"{solver}: {acc:.4f}\")\n"
      ],
      "metadata": {
        "colab": {
          "base_uri": "https://localhost:8080/"
        },
        "id": "PqgVzm6ArkZ2",
        "outputId": "06a0f720-291d-41df-c1eb-644b43590d05"
      },
      "execution_count": 12,
      "outputs": [
        {
          "output_type": "stream",
          "name": "stdout",
          "text": [
            "\n",
            "Training with solver: liblinear\n",
            "Accuracy: 0.9561\n",
            "\n",
            "Training with solver: saga\n",
            "Accuracy: 0.9737\n",
            "\n",
            "Training with solver: lbfgs\n",
            "Accuracy: 0.9561\n",
            "\n",
            "=== Accuracy Comparison by Solver ===\n",
            "liblinear: 0.9561\n",
            "saga: 0.9737\n",
            "lbfgs: 0.9561\n"
          ]
        }
      ]
    },
    {
      "cell_type": "code",
      "source": [
        "#22-Write a Python program to train Logistic Regression and evaluate its performance using Matthews correlation coefficient (MCC).\n",
        "from sklearn.datasets import load_breast_cancer\n",
        "from sklearn.model_selection import train_test_split\n",
        "from sklearn.linear_model import LogisticRegression\n",
        "from sklearn.metrics import matthews_corrcoef, accuracy_score\n",
        "\n",
        "# 1. Load dataset\n",
        "data = load_breast_cancer()\n",
        "X = data.data\n",
        "y = data.target\n",
        "\n",
        "# 2. Train-test split\n",
        "X_train, X_test, y_train, y_test = train_test_split(X, y, test_size=0.2, random_state=42)\n",
        "\n",
        "# 3. Train Logistic Regression model\n",
        "model = LogisticRegression(max_iter=10000)\n",
        "model.fit(X_train, y_train)\n",
        "\n",
        "# 4. Predict on test data\n",
        "y_pred = model.predict(X_test)\n",
        "\n",
        "# 5. Evaluate using MCC and accuracy\n",
        "mcc = matthews_corrcoef(y_test, y_pred)\n",
        "accuracy = accuracy_score(y_test, y_pred)\n",
        "\n",
        "# 6. Display results\n",
        "print(f\"Accuracy: {accuracy:.4f}\")\n",
        "print(f\"Matthews Correlation Coefficient (MCC): {mcc:.4f}\")\n"
      ],
      "metadata": {
        "colab": {
          "base_uri": "https://localhost:8080/"
        },
        "id": "Bo_2NMjZr3WB",
        "outputId": "6f7f333c-899b-4b8a-d724-99b6478fabdd"
      },
      "execution_count": 13,
      "outputs": [
        {
          "output_type": "stream",
          "name": "stdout",
          "text": [
            "Accuracy: 0.9561\n",
            "Matthews Correlation Coefficient (MCC): 0.9068\n"
          ]
        }
      ]
    },
    {
      "cell_type": "code",
      "source": [
        "#23-Write a Python program to train Logistic Regression on both raw and standardized data. Compare their accuracy to see the impact of feature scaling\n",
        "from sklearn.datasets import load_breast_cancer\n",
        "from sklearn.linear_model import LogisticRegression\n",
        "from sklearn.model_selection import train_test_split\n",
        "from sklearn.preprocessing import StandardScaler\n",
        "from sklearn.metrics import accuracy_score\n",
        "\n",
        "# 1. Load dataset\n",
        "data = load_breast_cancer()\n",
        "X, y = data.data, data.target\n",
        "\n",
        "# 2. Train-test split\n",
        "X_train, X_test, y_train, y_test = train_test_split(X, y, test_size=0.2, random_state=42)\n",
        "\n",
        "# 3. Train Logistic Regression on raw (unscaled) data\n",
        "model_raw = LogisticRegression(max_iter=10000)\n",
        "model_raw.fit(X_train, y_train)\n",
        "y_pred_raw = model_raw.predict(X_test)\n",
        "acc_raw = accuracy_score(y_test, y_pred_raw)\n",
        "\n",
        "# 4. Standardize the features\n",
        "scaler = StandardScaler()\n",
        "X_train_scaled = scaler.fit_transform(X_train)\n",
        "X_test_scaled = scaler.transform(X_test)\n",
        "\n",
        "# 5. Train Logistic Regression on standardized data\n",
        "model_scaled = LogisticRegression(max_iter=10000)\n",
        "model_scaled.fit(X_train_scaled, y_train)\n",
        "y_pred_scaled = model_scaled.predict(X_test_scaled)\n",
        "acc_scaled = accuracy_score(y_test, y_pred_scaled)\n",
        "\n",
        "# 6. Compare results\n",
        "print(\"=== Accuracy Comparison ===\")\n",
        "print(f\"Without Scaling : {acc_raw:.4f}\")\n",
        "print(f\"With Scaling    : {acc_scaled:.4f}\")\n"
      ],
      "metadata": {
        "colab": {
          "base_uri": "https://localhost:8080/"
        },
        "id": "RCv4fxRcsNvf",
        "outputId": "8f7f5ebc-09c6-4882-adc0-58d21dce56f6"
      },
      "execution_count": 14,
      "outputs": [
        {
          "output_type": "stream",
          "name": "stdout",
          "text": [
            "=== Accuracy Comparison ===\n",
            "Without Scaling : 0.9561\n",
            "With Scaling    : 0.9737\n"
          ]
        }
      ]
    },
    {
      "cell_type": "code",
      "source": [
        "#24-Write a Python program to train Logistic Regression and find the optimal C (regularization strength) using cross validation.\n",
        "import numpy as np\n",
        "from sklearn.datasets import load_breast_cancer\n",
        "from sklearn.linear_model import LogisticRegression\n",
        "from sklearn.model_selection import GridSearchCV\n",
        "from sklearn.model_selection import train_test_split\n",
        "\n",
        "# 1. Load dataset\n",
        "data = load_breast_cancer()\n",
        "X, y = data.data, data.target\n",
        "\n",
        "# 2. Train-test split (to evaluate best model later)\n",
        "X_train, X_test, y_train, y_test = train_test_split(X, y, test_size=0.2, random_state=42)\n",
        "\n",
        "# 3. Define parameter grid for C (inverse of regularization strength)\n",
        "param_grid = {'C': np.logspace(-3, 3, 10)}  # [0.001, 0.01, ..., 1000]\n",
        "\n",
        "# 4. Create Logistic Regression model\n",
        "model = LogisticRegression(max_iter=10000)\n",
        "\n",
        "# 5. Use GridSearchCV for cross-validation (default: 5-fold)\n",
        "grid_search = GridSearchCV(model, param_grid, cv=5, scoring='accuracy')\n",
        "grid_search.fit(X_train, y_train)\n",
        "\n",
        "# 6. Get the best C value and best score\n",
        "best_c = grid_search.best_params_['C']\n",
        "best_score = grid_search.best_score_\n",
        "\n",
        "print(\"=== Optimal C using Cross-Validation ===\")\n",
        "print(f\"Best C: {best_c}\")\n",
        "print(f\"Cross-validated Accuracy: {best_score:.4f}\")\n",
        "\n",
        "# 7. Evaluate on test set with the best model\n",
        "best_model = grid_search.best_estimator_\n",
        "test_accuracy = best_model.score(X_test, y_test)\n",
        "print(f\"Test Accuracy with Best C: {test_accuracy:.4f}\")\n"
      ],
      "metadata": {
        "colab": {
          "base_uri": "https://localhost:8080/"
        },
        "id": "2CjtXeg_sii-",
        "outputId": "882eceee-a855-46a4-b593-d9a13d6391bc"
      },
      "execution_count": 15,
      "outputs": [
        {
          "output_type": "stream",
          "name": "stderr",
          "text": [
            "/usr/local/lib/python3.11/dist-packages/sklearn/linear_model/_logistic.py:465: ConvergenceWarning: lbfgs failed to converge (status=1):\n",
            "STOP: TOTAL NO. OF ITERATIONS REACHED LIMIT.\n",
            "\n",
            "Increase the number of iterations (max_iter) or scale the data as shown in:\n",
            "    https://scikit-learn.org/stable/modules/preprocessing.html\n",
            "Please also refer to the documentation for alternative solver options:\n",
            "    https://scikit-learn.org/stable/modules/linear_model.html#logistic-regression\n",
            "  n_iter_i = _check_optimize_result(\n",
            "/usr/local/lib/python3.11/dist-packages/sklearn/linear_model/_logistic.py:465: ConvergenceWarning: lbfgs failed to converge (status=1):\n",
            "STOP: TOTAL NO. OF ITERATIONS REACHED LIMIT.\n",
            "\n",
            "Increase the number of iterations (max_iter) or scale the data as shown in:\n",
            "    https://scikit-learn.org/stable/modules/preprocessing.html\n",
            "Please also refer to the documentation for alternative solver options:\n",
            "    https://scikit-learn.org/stable/modules/linear_model.html#logistic-regression\n",
            "  n_iter_i = _check_optimize_result(\n",
            "/usr/local/lib/python3.11/dist-packages/sklearn/linear_model/_logistic.py:465: ConvergenceWarning: lbfgs failed to converge (status=1):\n",
            "STOP: TOTAL NO. OF ITERATIONS REACHED LIMIT.\n",
            "\n",
            "Increase the number of iterations (max_iter) or scale the data as shown in:\n",
            "    https://scikit-learn.org/stable/modules/preprocessing.html\n",
            "Please also refer to the documentation for alternative solver options:\n",
            "    https://scikit-learn.org/stable/modules/linear_model.html#logistic-regression\n",
            "  n_iter_i = _check_optimize_result(\n",
            "/usr/local/lib/python3.11/dist-packages/sklearn/linear_model/_logistic.py:465: ConvergenceWarning: lbfgs failed to converge (status=1):\n",
            "STOP: TOTAL NO. OF ITERATIONS REACHED LIMIT.\n",
            "\n",
            "Increase the number of iterations (max_iter) or scale the data as shown in:\n",
            "    https://scikit-learn.org/stable/modules/preprocessing.html\n",
            "Please also refer to the documentation for alternative solver options:\n",
            "    https://scikit-learn.org/stable/modules/linear_model.html#logistic-regression\n",
            "  n_iter_i = _check_optimize_result(\n",
            "/usr/local/lib/python3.11/dist-packages/sklearn/linear_model/_logistic.py:465: ConvergenceWarning: lbfgs failed to converge (status=1):\n",
            "STOP: TOTAL NO. OF ITERATIONS REACHED LIMIT.\n",
            "\n",
            "Increase the number of iterations (max_iter) or scale the data as shown in:\n",
            "    https://scikit-learn.org/stable/modules/preprocessing.html\n",
            "Please also refer to the documentation for alternative solver options:\n",
            "    https://scikit-learn.org/stable/modules/linear_model.html#logistic-regression\n",
            "  n_iter_i = _check_optimize_result(\n",
            "/usr/local/lib/python3.11/dist-packages/sklearn/linear_model/_logistic.py:465: ConvergenceWarning: lbfgs failed to converge (status=1):\n",
            "STOP: TOTAL NO. OF ITERATIONS REACHED LIMIT.\n",
            "\n",
            "Increase the number of iterations (max_iter) or scale the data as shown in:\n",
            "    https://scikit-learn.org/stable/modules/preprocessing.html\n",
            "Please also refer to the documentation for alternative solver options:\n",
            "    https://scikit-learn.org/stable/modules/linear_model.html#logistic-regression\n",
            "  n_iter_i = _check_optimize_result(\n"
          ]
        },
        {
          "output_type": "stream",
          "name": "stdout",
          "text": [
            "=== Optimal C using Cross-Validation ===\n",
            "Best C: 46.41588833612773\n",
            "Cross-validated Accuracy: 0.9714\n",
            "Test Accuracy with Best C: 0.9561\n"
          ]
        }
      ]
    },
    {
      "cell_type": "code",
      "source": [
        "#25- Write a Python program to train Logistic Regression, save the trained model using joblib, and load it again to male predictions.\n",
        "import joblib\n",
        "from sklearn.datasets import load_breast_cancer\n",
        "from sklearn.linear_model import LogisticRegression\n",
        "from sklearn.model_selection import train_test_split\n",
        "from sklearn.metrics import accuracy_score\n",
        "\n",
        "# 1. Load dataset\n",
        "data = load_breast_cancer()\n",
        "X, y = data.data, data.target\n",
        "\n",
        "# 2. Train-test split\n",
        "X_train, X_test, y_train, y_test = train_test_split(X, y, test_size=0.2, random_state=42)\n",
        "\n",
        "# 3. Train Logistic Regression model\n",
        "model = LogisticRegression(max_iter=10000)\n",
        "model.fit(X_train, y_train)\n",
        "\n",
        "# 4. Save the model to a file\n",
        "joblib.dump(model, 'logistic_model.joblib')\n",
        "print(\"Model saved to 'logistic_model.joblib'.\")\n",
        "\n",
        "# 5. Load the model from the file\n",
        "loaded_model = joblib.load('logistic_model.joblib')\n",
        "print(\"Model loaded from 'logistic_model.joblib'.\")\n",
        "\n",
        "# 6. Make predictions with loaded model\n",
        "y_pred = loaded_model.predict(X_test)\n",
        "\n",
        "# 7. Evaluate predictions\n",
        "accuracy = accuracy_score(y_test, y_pred)\n",
        "print(f\"Accuracy of loaded model: {accuracy:.4f}\")\n"
      ],
      "metadata": {
        "colab": {
          "base_uri": "https://localhost:8080/"
        },
        "id": "upcCi1p8s3gk",
        "outputId": "25087a37-4f45-4e72-d042-1dc53548067e"
      },
      "execution_count": 16,
      "outputs": [
        {
          "output_type": "stream",
          "name": "stdout",
          "text": [
            "Model saved to 'logistic_model.joblib'.\n",
            "Model loaded from 'logistic_model.joblib'.\n",
            "Accuracy of loaded model: 0.9561\n"
          ]
        }
      ]
    },
    {
      "cell_type": "code",
      "source": [],
      "metadata": {
        "id": "gSkdF1mztNZl"
      },
      "execution_count": null,
      "outputs": []
    }
  ]
}